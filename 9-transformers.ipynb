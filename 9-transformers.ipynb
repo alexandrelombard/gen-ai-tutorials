{
 "cells": [
  {
   "metadata": {},
   "cell_type": "markdown",
   "source": "https://pytorch.org/tutorials/beginner/translation_transformer.html",
   "id": "bce3f750825cd32d"
  },
  {
   "metadata": {
    "ExecuteTime": {
     "end_time": "2024-06-21T13:01:51.651653Z",
     "start_time": "2024-06-21T13:01:44.234147Z"
    }
   },
   "cell_type": "code",
   "source": [
    "!pip3 install torch torchvision torchaudio torchtext --index-url https://download.pytorch.org/whl/cu118\n",
    "!pip3 install torchdata spacy"
   ],
   "id": "77427eaaca4f8339",
   "outputs": [
    {
     "name": "stdout",
     "output_type": "stream",
     "text": [
      "Looking in indexes: https://download.pytorch.org/whl/cu118\n",
      "Requirement already satisfied: torch in c:\\users\\alombard.pcp-gi-12\\anaconda3\\envs\\transformers-tutorial\\lib\\site-packages (2.3.0)\n",
      "Requirement already satisfied: torchvision in c:\\users\\alombard.pcp-gi-12\\anaconda3\\envs\\transformers-tutorial\\lib\\site-packages (0.18.0)\n",
      "Requirement already satisfied: torchaudio in c:\\users\\alombard.pcp-gi-12\\anaconda3\\envs\\transformers-tutorial\\lib\\site-packages (2.3.0)\n",
      "Requirement already satisfied: torchtext in c:\\users\\alombard.pcp-gi-12\\anaconda3\\envs\\transformers-tutorial\\lib\\site-packages (0.18.0)\n",
      "Requirement already satisfied: filelock in c:\\users\\alombard.pcp-gi-12\\anaconda3\\envs\\transformers-tutorial\\lib\\site-packages (from torch) (3.13.1)\n",
      "Requirement already satisfied: typing-extensions>=4.8.0 in c:\\users\\alombard.pcp-gi-12\\anaconda3\\envs\\transformers-tutorial\\lib\\site-packages (from torch) (4.11.0)\n",
      "Requirement already satisfied: sympy in c:\\users\\alombard.pcp-gi-12\\anaconda3\\envs\\transformers-tutorial\\lib\\site-packages (from torch) (1.12)\n",
      "Requirement already satisfied: networkx in c:\\users\\alombard.pcp-gi-12\\anaconda3\\envs\\transformers-tutorial\\lib\\site-packages (from torch) (3.1)\n",
      "Requirement already satisfied: jinja2 in c:\\users\\alombard.pcp-gi-12\\anaconda3\\envs\\transformers-tutorial\\lib\\site-packages (from torch) (3.1.3)\n",
      "Requirement already satisfied: fsspec in c:\\users\\alombard.pcp-gi-12\\anaconda3\\envs\\transformers-tutorial\\lib\\site-packages (from torch) (2024.2.0)\n",
      "Requirement already satisfied: mkl<=2021.4.0,>=2021.1.1 in c:\\users\\alombard.pcp-gi-12\\anaconda3\\envs\\transformers-tutorial\\lib\\site-packages (from torch) (2021.4.0)\n",
      "Requirement already satisfied: numpy in c:\\users\\alombard.pcp-gi-12\\anaconda3\\envs\\transformers-tutorial\\lib\\site-packages (from torchvision) (1.24.3)\n",
      "Requirement already satisfied: pillow!=8.3.*,>=5.3.0 in c:\\users\\alombard.pcp-gi-12\\anaconda3\\envs\\transformers-tutorial\\lib\\site-packages (from torchvision) (10.3.0)\n",
      "Requirement already satisfied: tqdm in c:\\users\\alombard.pcp-gi-12\\anaconda3\\envs\\transformers-tutorial\\lib\\site-packages (from torchtext) (4.66.4)\n",
      "Requirement already satisfied: requests in c:\\users\\alombard.pcp-gi-12\\anaconda3\\envs\\transformers-tutorial\\lib\\site-packages (from torchtext) (2.31.0)\n",
      "Requirement already satisfied: intel-openmp==2021.* in c:\\users\\alombard.pcp-gi-12\\anaconda3\\envs\\transformers-tutorial\\lib\\site-packages (from mkl<=2021.4.0,>=2021.1.1->torch) (2021.4.0)\n",
      "Requirement already satisfied: tbb==2021.* in c:\\users\\alombard.pcp-gi-12\\anaconda3\\envs\\transformers-tutorial\\lib\\site-packages (from mkl<=2021.4.0,>=2021.1.1->torch) (2021.11.0)\n",
      "Requirement already satisfied: MarkupSafe>=2.0 in c:\\users\\alombard.pcp-gi-12\\anaconda3\\envs\\transformers-tutorial\\lib\\site-packages (from jinja2->torch) (2.1.3)\n",
      "Requirement already satisfied: charset-normalizer<4,>=2 in c:\\users\\alombard.pcp-gi-12\\anaconda3\\envs\\transformers-tutorial\\lib\\site-packages (from requests->torchtext) (2.0.4)\n",
      "Requirement already satisfied: idna<4,>=2.5 in c:\\users\\alombard.pcp-gi-12\\anaconda3\\envs\\transformers-tutorial\\lib\\site-packages (from requests->torchtext) (3.7)\n",
      "Requirement already satisfied: urllib3<3,>=1.21.1 in c:\\users\\alombard.pcp-gi-12\\anaconda3\\envs\\transformers-tutorial\\lib\\site-packages (from requests->torchtext) (2.2.1)\n",
      "Requirement already satisfied: certifi>=2017.4.17 in c:\\users\\alombard.pcp-gi-12\\anaconda3\\envs\\transformers-tutorial\\lib\\site-packages (from requests->torchtext) (2024.6.2)\n",
      "Requirement already satisfied: mpmath>=0.19 in c:\\users\\alombard.pcp-gi-12\\anaconda3\\envs\\transformers-tutorial\\lib\\site-packages (from sympy->torch) (1.3.0)\n",
      "Requirement already satisfied: colorama in c:\\users\\alombard.pcp-gi-12\\anaconda3\\envs\\transformers-tutorial\\lib\\site-packages (from tqdm->torchtext) (0.4.6)\n",
      "Requirement already satisfied: torchdata in c:\\users\\alombard.pcp-gi-12\\anaconda3\\envs\\transformers-tutorial\\lib\\site-packages (0.7.1)\n",
      "Requirement already satisfied: spacy in c:\\users\\alombard.pcp-gi-12\\anaconda3\\envs\\transformers-tutorial\\lib\\site-packages (3.7.5)\n",
      "Requirement already satisfied: urllib3>=1.25 in c:\\users\\alombard.pcp-gi-12\\anaconda3\\envs\\transformers-tutorial\\lib\\site-packages (from torchdata) (2.2.1)\n",
      "Requirement already satisfied: requests in c:\\users\\alombard.pcp-gi-12\\anaconda3\\envs\\transformers-tutorial\\lib\\site-packages (from torchdata) (2.31.0)\n",
      "Requirement already satisfied: torch>=2 in c:\\users\\alombard.pcp-gi-12\\anaconda3\\envs\\transformers-tutorial\\lib\\site-packages (from torchdata) (2.3.0)\n",
      "Requirement already satisfied: spacy-legacy<3.1.0,>=3.0.11 in c:\\users\\alombard.pcp-gi-12\\anaconda3\\envs\\transformers-tutorial\\lib\\site-packages (from spacy) (3.0.12)\n",
      "Requirement already satisfied: spacy-loggers<2.0.0,>=1.0.0 in c:\\users\\alombard.pcp-gi-12\\anaconda3\\envs\\transformers-tutorial\\lib\\site-packages (from spacy) (1.0.5)\n",
      "Requirement already satisfied: murmurhash<1.1.0,>=0.28.0 in c:\\users\\alombard.pcp-gi-12\\anaconda3\\envs\\transformers-tutorial\\lib\\site-packages (from spacy) (1.0.10)\n",
      "Requirement already satisfied: cymem<2.1.0,>=2.0.2 in c:\\users\\alombard.pcp-gi-12\\anaconda3\\envs\\transformers-tutorial\\lib\\site-packages (from spacy) (2.0.8)\n",
      "Requirement already satisfied: preshed<3.1.0,>=3.0.2 in c:\\users\\alombard.pcp-gi-12\\anaconda3\\envs\\transformers-tutorial\\lib\\site-packages (from spacy) (3.0.9)\n",
      "Requirement already satisfied: thinc<8.3.0,>=8.2.2 in c:\\users\\alombard.pcp-gi-12\\anaconda3\\envs\\transformers-tutorial\\lib\\site-packages (from spacy) (8.2.5)\n",
      "Requirement already satisfied: wasabi<1.2.0,>=0.9.1 in c:\\users\\alombard.pcp-gi-12\\anaconda3\\envs\\transformers-tutorial\\lib\\site-packages (from spacy) (1.1.3)\n",
      "Requirement already satisfied: srsly<3.0.0,>=2.4.3 in c:\\users\\alombard.pcp-gi-12\\anaconda3\\envs\\transformers-tutorial\\lib\\site-packages (from spacy) (2.4.8)\n",
      "Requirement already satisfied: catalogue<2.1.0,>=2.0.6 in c:\\users\\alombard.pcp-gi-12\\anaconda3\\envs\\transformers-tutorial\\lib\\site-packages (from spacy) (2.0.10)\n",
      "Requirement already satisfied: weasel<0.5.0,>=0.1.0 in c:\\users\\alombard.pcp-gi-12\\anaconda3\\envs\\transformers-tutorial\\lib\\site-packages (from spacy) (0.4.1)\n",
      "Requirement already satisfied: typer<1.0.0,>=0.3.0 in c:\\users\\alombard.pcp-gi-12\\anaconda3\\envs\\transformers-tutorial\\lib\\site-packages (from spacy) (0.12.3)\n",
      "Requirement already satisfied: tqdm<5.0.0,>=4.38.0 in c:\\users\\alombard.pcp-gi-12\\anaconda3\\envs\\transformers-tutorial\\lib\\site-packages (from spacy) (4.66.4)\n",
      "Requirement already satisfied: pydantic!=1.8,!=1.8.1,<3.0.0,>=1.7.4 in c:\\users\\alombard.pcp-gi-12\\anaconda3\\envs\\transformers-tutorial\\lib\\site-packages (from spacy) (2.7.4)\n",
      "Requirement already satisfied: jinja2 in c:\\users\\alombard.pcp-gi-12\\anaconda3\\envs\\transformers-tutorial\\lib\\site-packages (from spacy) (3.1.3)\n",
      "Requirement already satisfied: setuptools in c:\\users\\alombard.pcp-gi-12\\anaconda3\\envs\\transformers-tutorial\\lib\\site-packages (from spacy) (69.5.1)\n",
      "Requirement already satisfied: packaging>=20.0 in c:\\users\\alombard.pcp-gi-12\\anaconda3\\envs\\transformers-tutorial\\lib\\site-packages (from spacy) (23.2)\n",
      "Requirement already satisfied: langcodes<4.0.0,>=3.2.0 in c:\\users\\alombard.pcp-gi-12\\anaconda3\\envs\\transformers-tutorial\\lib\\site-packages (from spacy) (3.4.0)\n",
      "Requirement already satisfied: numpy>=1.19.0 in c:\\users\\alombard.pcp-gi-12\\anaconda3\\envs\\transformers-tutorial\\lib\\site-packages (from spacy) (1.24.3)\n",
      "Requirement already satisfied: language-data>=1.2 in c:\\users\\alombard.pcp-gi-12\\anaconda3\\envs\\transformers-tutorial\\lib\\site-packages (from langcodes<4.0.0,>=3.2.0->spacy) (1.2.0)\n",
      "Requirement already satisfied: annotated-types>=0.4.0 in c:\\users\\alombard.pcp-gi-12\\anaconda3\\envs\\transformers-tutorial\\lib\\site-packages (from pydantic!=1.8,!=1.8.1,<3.0.0,>=1.7.4->spacy) (0.7.0)\n",
      "Requirement already satisfied: pydantic-core==2.18.4 in c:\\users\\alombard.pcp-gi-12\\anaconda3\\envs\\transformers-tutorial\\lib\\site-packages (from pydantic!=1.8,!=1.8.1,<3.0.0,>=1.7.4->spacy) (2.18.4)\n",
      "Requirement already satisfied: typing-extensions>=4.6.1 in c:\\users\\alombard.pcp-gi-12\\anaconda3\\envs\\transformers-tutorial\\lib\\site-packages (from pydantic!=1.8,!=1.8.1,<3.0.0,>=1.7.4->spacy) (4.11.0)\n",
      "Requirement already satisfied: charset-normalizer<4,>=2 in c:\\users\\alombard.pcp-gi-12\\anaconda3\\envs\\transformers-tutorial\\lib\\site-packages (from requests->torchdata) (2.0.4)\n",
      "Requirement already satisfied: idna<4,>=2.5 in c:\\users\\alombard.pcp-gi-12\\anaconda3\\envs\\transformers-tutorial\\lib\\site-packages (from requests->torchdata) (3.7)\n",
      "Requirement already satisfied: certifi>=2017.4.17 in c:\\users\\alombard.pcp-gi-12\\anaconda3\\envs\\transformers-tutorial\\lib\\site-packages (from requests->torchdata) (2024.6.2)\n",
      "Requirement already satisfied: blis<0.8.0,>=0.7.8 in c:\\users\\alombard.pcp-gi-12\\anaconda3\\envs\\transformers-tutorial\\lib\\site-packages (from thinc<8.3.0,>=8.2.2->spacy) (0.7.11)\n",
      "Requirement already satisfied: confection<1.0.0,>=0.0.1 in c:\\users\\alombard.pcp-gi-12\\anaconda3\\envs\\transformers-tutorial\\lib\\site-packages (from thinc<8.3.0,>=8.2.2->spacy) (0.1.5)\n",
      "Requirement already satisfied: filelock in c:\\users\\alombard.pcp-gi-12\\anaconda3\\envs\\transformers-tutorial\\lib\\site-packages (from torch>=2->torchdata) (3.13.1)\n",
      "Requirement already satisfied: sympy in c:\\users\\alombard.pcp-gi-12\\anaconda3\\envs\\transformers-tutorial\\lib\\site-packages (from torch>=2->torchdata) (1.12)\n",
      "Requirement already satisfied: networkx in c:\\users\\alombard.pcp-gi-12\\anaconda3\\envs\\transformers-tutorial\\lib\\site-packages (from torch>=2->torchdata) (3.1)\n",
      "Requirement already satisfied: fsspec in c:\\users\\alombard.pcp-gi-12\\anaconda3\\envs\\transformers-tutorial\\lib\\site-packages (from torch>=2->torchdata) (2024.2.0)\n",
      "Requirement already satisfied: mkl<=2021.4.0,>=2021.1.1 in c:\\users\\alombard.pcp-gi-12\\anaconda3\\envs\\transformers-tutorial\\lib\\site-packages (from torch>=2->torchdata) (2021.4.0)\n",
      "Requirement already satisfied: colorama in c:\\users\\alombard.pcp-gi-12\\anaconda3\\envs\\transformers-tutorial\\lib\\site-packages (from tqdm<5.0.0,>=4.38.0->spacy) (0.4.6)\n",
      "Requirement already satisfied: click>=8.0.0 in c:\\users\\alombard.pcp-gi-12\\anaconda3\\envs\\transformers-tutorial\\lib\\site-packages (from typer<1.0.0,>=0.3.0->spacy) (8.1.7)\n",
      "Requirement already satisfied: shellingham>=1.3.0 in c:\\users\\alombard.pcp-gi-12\\anaconda3\\envs\\transformers-tutorial\\lib\\site-packages (from typer<1.0.0,>=0.3.0->spacy) (1.5.4)\n",
      "Requirement already satisfied: rich>=10.11.0 in c:\\users\\alombard.pcp-gi-12\\anaconda3\\envs\\transformers-tutorial\\lib\\site-packages (from typer<1.0.0,>=0.3.0->spacy) (13.7.1)\n",
      "Requirement already satisfied: cloudpathlib<1.0.0,>=0.7.0 in c:\\users\\alombard.pcp-gi-12\\anaconda3\\envs\\transformers-tutorial\\lib\\site-packages (from weasel<0.5.0,>=0.1.0->spacy) (0.18.1)\n",
      "Requirement already satisfied: smart-open<8.0.0,>=5.2.1 in c:\\users\\alombard.pcp-gi-12\\anaconda3\\envs\\transformers-tutorial\\lib\\site-packages (from weasel<0.5.0,>=0.1.0->spacy) (7.0.4)\n",
      "Requirement already satisfied: MarkupSafe>=2.0 in c:\\users\\alombard.pcp-gi-12\\anaconda3\\envs\\transformers-tutorial\\lib\\site-packages (from jinja2->spacy) (2.1.3)\n",
      "Requirement already satisfied: marisa-trie>=0.7.7 in c:\\users\\alombard.pcp-gi-12\\anaconda3\\envs\\transformers-tutorial\\lib\\site-packages (from language-data>=1.2->langcodes<4.0.0,>=3.2.0->spacy) (1.2.0)\n",
      "Requirement already satisfied: intel-openmp==2021.* in c:\\users\\alombard.pcp-gi-12\\anaconda3\\envs\\transformers-tutorial\\lib\\site-packages (from mkl<=2021.4.0,>=2021.1.1->torch>=2->torchdata) (2021.4.0)\n",
      "Requirement already satisfied: tbb==2021.* in c:\\users\\alombard.pcp-gi-12\\anaconda3\\envs\\transformers-tutorial\\lib\\site-packages (from mkl<=2021.4.0,>=2021.1.1->torch>=2->torchdata) (2021.11.0)\n",
      "Requirement already satisfied: markdown-it-py>=2.2.0 in c:\\users\\alombard.pcp-gi-12\\anaconda3\\envs\\transformers-tutorial\\lib\\site-packages (from rich>=10.11.0->typer<1.0.0,>=0.3.0->spacy) (3.0.0)\n",
      "Requirement already satisfied: pygments<3.0.0,>=2.13.0 in c:\\users\\alombard.pcp-gi-12\\anaconda3\\envs\\transformers-tutorial\\lib\\site-packages (from rich>=10.11.0->typer<1.0.0,>=0.3.0->spacy) (2.15.1)\n",
      "Requirement already satisfied: wrapt in c:\\users\\alombard.pcp-gi-12\\anaconda3\\envs\\transformers-tutorial\\lib\\site-packages (from smart-open<8.0.0,>=5.2.1->weasel<0.5.0,>=0.1.0->spacy) (1.16.0)\n",
      "Requirement already satisfied: mpmath>=0.19 in c:\\users\\alombard.pcp-gi-12\\anaconda3\\envs\\transformers-tutorial\\lib\\site-packages (from sympy->torch>=2->torchdata) (1.3.0)\n",
      "Requirement already satisfied: mdurl~=0.1 in c:\\users\\alombard.pcp-gi-12\\anaconda3\\envs\\transformers-tutorial\\lib\\site-packages (from markdown-it-py>=2.2.0->rich>=10.11.0->typer<1.0.0,>=0.3.0->spacy) (0.1.2)\n"
     ]
    }
   ],
   "execution_count": 1
  },
  {
   "metadata": {
    "ExecuteTime": {
     "end_time": "2024-06-21T13:06:50.262963Z",
     "start_time": "2024-06-21T13:06:50.232830Z"
    }
   },
   "cell_type": "code",
   "source": [
    "from torchtext.data.utils import get_tokenizer\n",
    "from torchtext.vocab import build_vocab_from_iterator\n",
    "from torchtext.datasets import multi30k, Multi30k\n",
    "from typing import Iterable, List"
   ],
   "id": "a115d861b409a9b7",
   "outputs": [
    {
     "ename": "ModuleNotFoundError",
     "evalue": "No module named 'torchtext'",
     "output_type": "error",
     "traceback": [
      "\u001B[1;31m---------------------------------------------------------------------------\u001B[0m",
      "\u001B[1;31mModuleNotFoundError\u001B[0m                       Traceback (most recent call last)",
      "Cell \u001B[1;32mIn[3], line 1\u001B[0m\n\u001B[1;32m----> 1\u001B[0m \u001B[38;5;28;01mfrom\u001B[39;00m \u001B[38;5;21;01mtorchtext\u001B[39;00m\u001B[38;5;21;01m.\u001B[39;00m\u001B[38;5;21;01mdata\u001B[39;00m\u001B[38;5;21;01m.\u001B[39;00m\u001B[38;5;21;01mutils\u001B[39;00m \u001B[38;5;28;01mimport\u001B[39;00m get_tokenizer\n\u001B[0;32m      2\u001B[0m \u001B[38;5;28;01mfrom\u001B[39;00m \u001B[38;5;21;01mtorchtext\u001B[39;00m\u001B[38;5;21;01m.\u001B[39;00m\u001B[38;5;21;01mvocab\u001B[39;00m \u001B[38;5;28;01mimport\u001B[39;00m build_vocab_from_iterator\n\u001B[0;32m      3\u001B[0m \u001B[38;5;28;01mfrom\u001B[39;00m \u001B[38;5;21;01mtorchtext\u001B[39;00m\u001B[38;5;21;01m.\u001B[39;00m\u001B[38;5;21;01mdatasets\u001B[39;00m \u001B[38;5;28;01mimport\u001B[39;00m multi30k, Multi30k\n",
      "\u001B[1;31mModuleNotFoundError\u001B[0m: No module named 'torchtext'"
     ]
    }
   ],
   "execution_count": 3
  },
  {
   "metadata": {
    "ExecuteTime": {
     "end_time": "2024-06-21T13:06:52.660559Z",
     "start_time": "2024-06-21T13:06:52.639371Z"
    }
   },
   "cell_type": "code",
   "source": [
    "multi30k.URL[\"train\"] = \"https://raw.githubusercontent.com/neychev/small_DL_repo/master/datasets/Multi30k/training.tar.gz\"\n",
    "multi30k.URL[\"valid\"] = \"https://raw.githubusercontent.com/neychev/small_DL_repo/master/datasets/Multi30k/validation.tar.gz\"\n",
    "\n",
    "SRC_LANGUAGE = 'de'\n",
    "TGT_LANGUAGE = 'en'\n",
    "\n",
    "token_transform = {}\n",
    "vocab_transform = {}"
   ],
   "id": "de1ef559df303d74",
   "outputs": [
    {
     "ename": "NameError",
     "evalue": "name 'multi30k' is not defined",
     "output_type": "error",
     "traceback": [
      "\u001B[1;31m---------------------------------------------------------------------------\u001B[0m",
      "\u001B[1;31mNameError\u001B[0m                                 Traceback (most recent call last)",
      "Cell \u001B[1;32mIn[4], line 1\u001B[0m\n\u001B[1;32m----> 1\u001B[0m multi30k\u001B[38;5;241m.\u001B[39mURL[\u001B[38;5;124m\"\u001B[39m\u001B[38;5;124mtrain\u001B[39m\u001B[38;5;124m\"\u001B[39m] \u001B[38;5;241m=\u001B[39m \u001B[38;5;124m\"\u001B[39m\u001B[38;5;124mhttps://raw.githubusercontent.com/neychev/small_DL_repo/master/datasets/Multi30k/training.tar.gz\u001B[39m\u001B[38;5;124m\"\u001B[39m\n\u001B[0;32m      2\u001B[0m multi30k\u001B[38;5;241m.\u001B[39mURL[\u001B[38;5;124m\"\u001B[39m\u001B[38;5;124mvalid\u001B[39m\u001B[38;5;124m\"\u001B[39m] \u001B[38;5;241m=\u001B[39m \u001B[38;5;124m\"\u001B[39m\u001B[38;5;124mhttps://raw.githubusercontent.com/neychev/small_DL_repo/master/datasets/Multi30k/validation.tar.gz\u001B[39m\u001B[38;5;124m\"\u001B[39m\n\u001B[0;32m      4\u001B[0m SRC_LANGUAGE \u001B[38;5;241m=\u001B[39m \u001B[38;5;124m'\u001B[39m\u001B[38;5;124mde\u001B[39m\u001B[38;5;124m'\u001B[39m\n",
      "\u001B[1;31mNameError\u001B[0m: name 'multi30k' is not defined"
     ]
    }
   ],
   "execution_count": 4
  }
 ],
 "metadata": {
  "kernelspec": {
   "display_name": "Python 3",
   "language": "python",
   "name": "python3"
  },
  "language_info": {
   "codemirror_mode": {
    "name": "ipython",
    "version": 2
   },
   "file_extension": ".py",
   "mimetype": "text/x-python",
   "name": "python",
   "nbconvert_exporter": "python",
   "pygments_lexer": "ipython2",
   "version": "2.7.6"
  }
 },
 "nbformat": 4,
 "nbformat_minor": 5
}
