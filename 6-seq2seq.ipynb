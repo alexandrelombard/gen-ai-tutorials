{
 "cells": [
  {
   "metadata": {},
   "cell_type": "markdown",
   "source": [
    "https://pytorch.org/tutorials/intermediate/seq2seq_translation_tutorial.html\n",
    "https://github.com/bentrevett/pytorch-seq2seq/blob/main/1%20-%20Sequence%20to%20Sequence%20Learning%20with%20Neural%20Networks.ipynb\n"
   ],
   "id": "fb30eb2e86731cbf"
  },
  {
   "metadata": {
    "ExecuteTime": {
     "end_time": "2024-06-20T06:39:33.998476Z",
     "start_time": "2024-06-20T06:39:33.994431Z"
    }
   },
   "cell_type": "code",
   "source": [
    "import torch\n",
    "import torch.nn as nn\n",
    "import torch.nn.functional as F\n",
    "\n",
    "import unicodedata\n",
    "import re\n",
    "import random"
   ],
   "id": "3ce9fe3e3e8391fa",
   "outputs": [],
   "execution_count": 224
  },
  {
   "metadata": {},
   "cell_type": "markdown",
   "source": "# Preparing data",
   "id": "dd7de0bb254d17cf"
  },
  {
   "metadata": {
    "ExecuteTime": {
     "end_time": "2024-06-20T06:39:34.058535Z",
     "start_time": "2024-06-20T06:39:34.050470Z"
    }
   },
   "cell_type": "code",
   "source": [
    "SOS_token = 0\n",
    "EOS_token = 1\n",
    "\n",
    "class Lang:\n",
    "    def __init__(self, name):\n",
    "        self.name = name\n",
    "        self.word2index = {}\n",
    "        self.word2count = {}\n",
    "        self.index2word = {SOS_token: 'SOS', EOS_token: 'EOS'}\n",
    "        self.n_words = 2    # for SOS and EOS tokens\n",
    "        \n",
    "    def add_sentence(self, sentence):\n",
    "        for word in sentence.split(' '):\n",
    "            self.add_word(word)\n",
    "            \n",
    "    def add_word(self, word):\n",
    "        if word not in self.word2index:\n",
    "            self.word2index[word] = self.n_words\n",
    "            self.word2count[word] = 1\n",
    "            self.index2word[self.n_words] = word\n",
    "            self.n_words += 1\n",
    "        else:\n",
    "            self.word2count[word] += 1"
   ],
   "id": "eb14a2e01b79c0f4",
   "outputs": [],
   "execution_count": 225
  },
  {
   "metadata": {
    "ExecuteTime": {
     "end_time": "2024-06-20T06:39:34.070086Z",
     "start_time": "2024-06-20T06:39:34.062552Z"
    }
   },
   "cell_type": "code",
   "source": [
    "def unicode_to_ascii(s):\n",
    "    return ''.join(\n",
    "        c for c in unicodedata.normalize('NFD', s)\n",
    "        if unicodedata.category(c) != 'Mn'\n",
    "    )\n",
    "\n",
    "# Lowercase, trim, and remove non-letter characters\n",
    "def normalize_string(s):\n",
    "    s = unicode_to_ascii(s.lower().strip())\n",
    "    s = re.sub(r\"([.!?])\", r\" \\1\", s)\n",
    "    s = re.sub(r\"[^a-zA-Z!?]+\", r\" \", s)\n",
    "    return s.strip()"
   ],
   "id": "d20b7825c4e55d9c",
   "outputs": [],
   "execution_count": 226
  },
  {
   "metadata": {
    "ExecuteTime": {
     "end_time": "2024-06-20T06:39:34.094015Z",
     "start_time": "2024-06-20T06:39:34.086107Z"
    }
   },
   "cell_type": "code",
   "source": [
    "def read_langs(lang1: str, lang2: str, reverse=False):\n",
    "    lines = open(\"data/%s-%s.txt\" % (lang1, lang2), encoding=\"utf-8\").readlines()\n",
    "    pairs = [[normalize_string(s) for s in l.split('\\t')] for l in lines]\n",
    "    \n",
    "    if reverse:\n",
    "        pairs = [list(reversed(p)) for p in pairs]\n",
    "        input_lang = Lang(lang2)\n",
    "        output_lang = Lang(lang1)\n",
    "    else:\n",
    "        input_lang = Lang(lang1)\n",
    "        output_lang = Lang(lang2)\n",
    "        \n",
    "    return input_lang, output_lang, pairs"
   ],
   "id": "980b8a8a5f8d8b28",
   "outputs": [],
   "execution_count": 227
  },
  {
   "metadata": {
    "ExecuteTime": {
     "end_time": "2024-06-20T06:39:38.663842Z",
     "start_time": "2024-06-20T06:39:34.126042Z"
    }
   },
   "cell_type": "code",
   "source": [
    "input_lang, output_lang, pairs = read_langs('eng', 'fra')\n",
    "for pair in pairs:\n",
    "    input_lang.add_sentence(pair[0])\n",
    "    output_lang.add_sentence(pair[1])"
   ],
   "id": "d57e9b41eac13710",
   "outputs": [],
   "execution_count": 228
  },
  {
   "metadata": {
    "ExecuteTime": {
     "end_time": "2024-06-20T06:39:38.669161Z",
     "start_time": "2024-06-20T06:39:38.665873Z"
    }
   },
   "cell_type": "code",
   "source": "MAX_LENGTH = 100",
   "id": "e63bc70e5261df5d",
   "outputs": [],
   "execution_count": 229
  },
  {
   "metadata": {},
   "cell_type": "markdown",
   "source": "# Neural network module",
   "id": "258351ef669cdcf1"
  },
  {
   "metadata": {
    "ExecuteTime": {
     "end_time": "2024-06-20T06:39:38.677099Z",
     "start_time": "2024-06-20T06:39:38.670174Z"
    }
   },
   "cell_type": "code",
   "source": [
    "class Encoder(nn.Module):\n",
    "    def __init__(self, input_size, hidden_size, dropout_p=0.1):\n",
    "        super(Encoder, self).__init__()\n",
    "        self.hidden_size = hidden_size\n",
    "        \n",
    "        self.embedding = nn.Embedding(input_size, hidden_size)\n",
    "        self.gru = nn.GRU(hidden_size, hidden_size, batch_first=True)\n",
    "        self.dropout = nn.Dropout(dropout_p)\n",
    "        \n",
    "    def forward(self, x):\n",
    "        embedded = self.dropout(self.embedding(x))\n",
    "        output, hidden = self.gru(embedded)\n",
    "        return output, hidden"
   ],
   "id": "initial_id",
   "outputs": [],
   "execution_count": 230
  },
  {
   "metadata": {
    "ExecuteTime": {
     "end_time": "2024-06-20T06:39:38.688926Z",
     "start_time": "2024-06-20T06:39:38.678110Z"
    }
   },
   "cell_type": "code",
   "source": [
    "class Decoder(nn.Module):\n",
    "    def __init__(self, hidden_size, output_size):\n",
    "        super(Decoder, self).__init__()\n",
    "        self.embedding = nn.Embedding(output_size, hidden_size)\n",
    "        self.gru = nn.GRU(hidden_size, hidden_size, batch_first=True)\n",
    "        self.out = nn.Linear(hidden_size, output_size)\n",
    "        \n",
    "    def forward(self, encoder_outputs, encoder_hidden, target_tensor=None):\n",
    "        batch_size = encoder_outputs.size(0)\n",
    "        decoder_input = torch.empty(batch_size, 1, dtype=torch.long).fill_(SOS_token)\n",
    "        decoder_hidden = encoder_hidden\n",
    "        decoder_outputs = []\n",
    "        \n",
    "        for i in range(MAX_LENGTH):\n",
    "            print(\"A:\", i, \",\", decoder_input.shape, \",\", decoder_hidden.shape)\n",
    "            decoder_output, decoder_hidden = self.forward_step(decoder_input, decoder_hidden)\n",
    "            decoder_outputs.append(decoder_output)\n",
    "            \n",
    "            if target_tensor is not None:\n",
    "                decoder_input = target_tensor[:, i].unsqueeze(1)\n",
    "                print(\"B:\", i, \",\", decoder_input.shape, \",\", target_tensor)\n",
    "            else:\n",
    "                _, topi = decoder_output.topk(1)\n",
    "                decoder_input = topi.squeeze(-1).detach()\n",
    "                \n",
    "        decoder_outputs = torch.cat(decoder_outputs, dim=1)\n",
    "        decoder_outputs = F.log_softmax(decoder_outputs, dim=-1)\n",
    "        \n",
    "        return decoder_outputs, decoder_hidden, None\n",
    "    \n",
    "    def forward_step(self, input, hidden):\n",
    "        output = self.embedding(input)\n",
    "        print(\"output shape:\", output.shape)\n",
    "        output = F.relu(output)\n",
    "        output, hidden = self.gru(output, hidden)\n",
    "        output = self.out(output)\n",
    "        \n",
    "        return output, hidden"
   ],
   "id": "37f2e1607632a667",
   "outputs": [],
   "execution_count": 231
  },
  {
   "metadata": {},
   "cell_type": "markdown",
   "source": "# Training and evaluation of this initial encoder-decoder",
   "id": "f00424fd9a568cc6"
  },
  {
   "metadata": {
    "ExecuteTime": {
     "end_time": "2024-06-20T06:39:38.697862Z",
     "start_time": "2024-06-20T06:39:38.690937Z"
    }
   },
   "cell_type": "code",
   "source": [
    "def indexes_from_sentence(lang, sentence):\n",
    "    return [lang.word2index[word] for word in sentence.split(' ')]\n",
    "\n",
    "def tensor_from_sentence(lang, sentence):\n",
    "    indexes = indexes_from_sentence(lang, sentence)\n",
    "    indexes.append(EOS_token)\n",
    "    return torch.tensor(indexes, dtype=torch.long).view(-1, 1)\n",
    "\n",
    "def tensors_from_pair(pair):\n",
    "    input_tensor = tensor_from_sentence(input_lang, pair[0])\n",
    "    target_tensor = tensor_from_sentence(output_lang, pair[1])\n",
    "    return input_tensor, target_tensor"
   ],
   "id": "a8e9589c659568eb",
   "outputs": [],
   "execution_count": 232
  },
  {
   "metadata": {
    "ExecuteTime": {
     "end_time": "2024-06-20T06:39:38.746495Z",
     "start_time": "2024-06-20T06:39:38.698868Z"
    }
   },
   "cell_type": "code",
   "source": [
    "hidden_size = 128\n",
    "encoder = Encoder(input_lang.n_words, hidden_size)\n",
    "decoder = Decoder(hidden_size, output_lang.n_words)"
   ],
   "id": "6c9a3da516d25230",
   "outputs": [],
   "execution_count": 233
  },
  {
   "metadata": {
    "ExecuteTime": {
     "end_time": "2024-06-20T06:39:38.898294Z",
     "start_time": "2024-06-20T06:39:38.748505Z"
    }
   },
   "cell_type": "code",
   "source": [
    "criterion = nn.NLLLoss()\n",
    "\n",
    "learning_rate = 0.01\n",
    "encoder_optimizer = torch.optim.SGD(encoder.parameters(), lr=learning_rate)\n",
    "decoder_optimizer = torch.optim.SGD(decoder.parameters(), lr=learning_rate)\n",
    "\n",
    "for i in range(0, 1000):\n",
    "    training_examples = random.choices(pairs, k=5000)\n",
    "    \n",
    "    for p in training_examples:\n",
    "        i, t = tensors_from_pair(p)\n",
    "        \n",
    "        encoder_optimizer.zero_grad()\n",
    "        decoder_optimizer.zero_grad()\n",
    "    \n",
    "        encoder_output, encoder_hidden = encoder(i)\n",
    "        decoder_output, _, _ = decoder(encoder_output, encoder_hidden, t)\n",
    "        \n",
    "        loss = criterion(decoder_output, t)\n",
    "        loss.backward()\n",
    "        \n",
    "        encoder_optimizer.step()\n",
    "        decoder_optimizer.step()\n",
    "    "
   ],
   "id": "e92067d801d9fb0a",
   "outputs": [
    {
     "name": "stdout",
     "output_type": "stream",
     "text": [
      "A: 0 , torch.Size([8, 1]) , torch.Size([1, 8, 128])\n",
      "output shape: torch.Size([8, 1, 128])\n",
      "B: 0 , torch.Size([8, 1]) , tensor([[  22],\n",
      "        [  24],\n",
      "        [ 743],\n",
      "        [ 435],\n",
      "        [4678],\n",
      "        [   8],\n",
      "        [5776],\n",
      "        [   1]])\n",
      "A: 1 , torch.Size([8, 1]) , torch.Size([1, 8, 128])\n",
      "output shape: torch.Size([8, 1, 128])\n"
     ]
    },
    {
     "ename": "IndexError",
     "evalue": "index 1 is out of bounds for dimension 1 with size 1",
     "output_type": "error",
     "traceback": [
      "\u001B[1;31m---------------------------------------------------------------------------\u001B[0m",
      "\u001B[1;31mIndexError\u001B[0m                                Traceback (most recent call last)",
      "Cell \u001B[1;32mIn[234], line 17\u001B[0m\n\u001B[0;32m     14\u001B[0m decoder_optimizer\u001B[38;5;241m.\u001B[39mzero_grad()\n\u001B[0;32m     16\u001B[0m encoder_output, encoder_hidden \u001B[38;5;241m=\u001B[39m encoder(i)\n\u001B[1;32m---> 17\u001B[0m decoder_output, _, _ \u001B[38;5;241m=\u001B[39m decoder(encoder_output, encoder_hidden, t)\n\u001B[0;32m     19\u001B[0m loss \u001B[38;5;241m=\u001B[39m criterion(decoder_output, t)\n\u001B[0;32m     20\u001B[0m loss\u001B[38;5;241m.\u001B[39mbackward()\n",
      "File \u001B[1;32m~\\anaconda3\\Lib\\site-packages\\torch\\nn\\modules\\module.py:1511\u001B[0m, in \u001B[0;36mModule._wrapped_call_impl\u001B[1;34m(self, *args, **kwargs)\u001B[0m\n\u001B[0;32m   1509\u001B[0m     \u001B[38;5;28;01mreturn\u001B[39;00m \u001B[38;5;28mself\u001B[39m\u001B[38;5;241m.\u001B[39m_compiled_call_impl(\u001B[38;5;241m*\u001B[39margs, \u001B[38;5;241m*\u001B[39m\u001B[38;5;241m*\u001B[39mkwargs)  \u001B[38;5;66;03m# type: ignore[misc]\u001B[39;00m\n\u001B[0;32m   1510\u001B[0m \u001B[38;5;28;01melse\u001B[39;00m:\n\u001B[1;32m-> 1511\u001B[0m     \u001B[38;5;28;01mreturn\u001B[39;00m \u001B[38;5;28mself\u001B[39m\u001B[38;5;241m.\u001B[39m_call_impl(\u001B[38;5;241m*\u001B[39margs, \u001B[38;5;241m*\u001B[39m\u001B[38;5;241m*\u001B[39mkwargs)\n",
      "File \u001B[1;32m~\\anaconda3\\Lib\\site-packages\\torch\\nn\\modules\\module.py:1520\u001B[0m, in \u001B[0;36mModule._call_impl\u001B[1;34m(self, *args, **kwargs)\u001B[0m\n\u001B[0;32m   1515\u001B[0m \u001B[38;5;66;03m# If we don't have any hooks, we want to skip the rest of the logic in\u001B[39;00m\n\u001B[0;32m   1516\u001B[0m \u001B[38;5;66;03m# this function, and just call forward.\u001B[39;00m\n\u001B[0;32m   1517\u001B[0m \u001B[38;5;28;01mif\u001B[39;00m \u001B[38;5;129;01mnot\u001B[39;00m (\u001B[38;5;28mself\u001B[39m\u001B[38;5;241m.\u001B[39m_backward_hooks \u001B[38;5;129;01mor\u001B[39;00m \u001B[38;5;28mself\u001B[39m\u001B[38;5;241m.\u001B[39m_backward_pre_hooks \u001B[38;5;129;01mor\u001B[39;00m \u001B[38;5;28mself\u001B[39m\u001B[38;5;241m.\u001B[39m_forward_hooks \u001B[38;5;129;01mor\u001B[39;00m \u001B[38;5;28mself\u001B[39m\u001B[38;5;241m.\u001B[39m_forward_pre_hooks\n\u001B[0;32m   1518\u001B[0m         \u001B[38;5;129;01mor\u001B[39;00m _global_backward_pre_hooks \u001B[38;5;129;01mor\u001B[39;00m _global_backward_hooks\n\u001B[0;32m   1519\u001B[0m         \u001B[38;5;129;01mor\u001B[39;00m _global_forward_hooks \u001B[38;5;129;01mor\u001B[39;00m _global_forward_pre_hooks):\n\u001B[1;32m-> 1520\u001B[0m     \u001B[38;5;28;01mreturn\u001B[39;00m forward_call(\u001B[38;5;241m*\u001B[39margs, \u001B[38;5;241m*\u001B[39m\u001B[38;5;241m*\u001B[39mkwargs)\n\u001B[0;32m   1522\u001B[0m \u001B[38;5;28;01mtry\u001B[39;00m:\n\u001B[0;32m   1523\u001B[0m     result \u001B[38;5;241m=\u001B[39m \u001B[38;5;28;01mNone\u001B[39;00m\n",
      "Cell \u001B[1;32mIn[231], line 20\u001B[0m, in \u001B[0;36mDecoder.forward\u001B[1;34m(self, encoder_outputs, encoder_hidden, target_tensor)\u001B[0m\n\u001B[0;32m     17\u001B[0m decoder_outputs\u001B[38;5;241m.\u001B[39mappend(decoder_output)\n\u001B[0;32m     19\u001B[0m \u001B[38;5;28;01mif\u001B[39;00m target_tensor \u001B[38;5;129;01mis\u001B[39;00m \u001B[38;5;129;01mnot\u001B[39;00m \u001B[38;5;28;01mNone\u001B[39;00m:\n\u001B[1;32m---> 20\u001B[0m     decoder_input \u001B[38;5;241m=\u001B[39m target_tensor[:, i]\u001B[38;5;241m.\u001B[39munsqueeze(\u001B[38;5;241m1\u001B[39m)\n\u001B[0;32m     21\u001B[0m     \u001B[38;5;28mprint\u001B[39m(\u001B[38;5;124m\"\u001B[39m\u001B[38;5;124mB:\u001B[39m\u001B[38;5;124m\"\u001B[39m, i, \u001B[38;5;124m\"\u001B[39m\u001B[38;5;124m,\u001B[39m\u001B[38;5;124m\"\u001B[39m, decoder_input\u001B[38;5;241m.\u001B[39mshape, \u001B[38;5;124m\"\u001B[39m\u001B[38;5;124m,\u001B[39m\u001B[38;5;124m\"\u001B[39m, target_tensor)\n\u001B[0;32m     22\u001B[0m \u001B[38;5;28;01melse\u001B[39;00m:\n",
      "\u001B[1;31mIndexError\u001B[0m: index 1 is out of bounds for dimension 1 with size 1"
     ]
    }
   ],
   "execution_count": 234
  },
  {
   "metadata": {},
   "cell_type": "code",
   "source": [
    "input, target = tensors_from_pair(training_examples[0])\n",
    "output, hidden = encoder(input)\n",
    "output\n",
    "\n",
    "output.size(0)\n",
    "batch_size = output.size(0)\n",
    "decoder_input = torch.empty(batch_size, 1, dtype=torch.long).fill_(SOS_token)\n",
    "decoder_input\n",
    "\n",
    "decoder(output, hidden)"
   ],
   "id": "59fecdf101152761",
   "outputs": [],
   "execution_count": null
  },
  {
   "metadata": {},
   "cell_type": "code",
   "source": "[tensors_from_pair(p)[0] for p in training_examples]",
   "id": "ce1e4090fc6b9352",
   "outputs": [],
   "execution_count": null
  },
  {
   "metadata": {},
   "cell_type": "code",
   "source": "",
   "id": "cccd530df1fe48f2",
   "outputs": [],
   "execution_count": null
  }
 ],
 "metadata": {
  "kernelspec": {
   "display_name": "Python 3",
   "language": "python",
   "name": "python3"
  },
  "language_info": {
   "codemirror_mode": {
    "name": "ipython",
    "version": 2
   },
   "file_extension": ".py",
   "mimetype": "text/x-python",
   "name": "python",
   "nbconvert_exporter": "python",
   "pygments_lexer": "ipython2",
   "version": "2.7.6"
  }
 },
 "nbformat": 4,
 "nbformat_minor": 5
}
