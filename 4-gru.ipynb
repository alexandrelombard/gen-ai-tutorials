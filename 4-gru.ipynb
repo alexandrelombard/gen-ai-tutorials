{
 "cells": [
  {
   "metadata": {},
   "cell_type": "markdown",
   "source": "# Imports",
   "id": "20c0ce702028a77f"
  },
  {
   "metadata": {},
   "cell_type": "code",
   "outputs": [],
   "execution_count": null,
   "source": [
    "import torch\n",
    "import torch.nn as nn\n",
    "import torch.functional as F"
   ],
   "id": "initial_id"
  },
  {
   "metadata": {},
   "cell_type": "markdown",
   "source": "# Neural network module",
   "id": "12af38b1085957a6"
  },
  {
   "metadata": {
    "ExecuteTime": {
     "end_time": "2024-06-14T12:51:04.486482Z",
     "start_time": "2024-06-14T12:51:03.613429Z"
    }
   },
   "cell_type": "code",
   "source": [
    "class GRU(nn.Module):\n",
    "    def __init__(self, hidden_size):\n",
    "        super(GRU, self).__init__()\n",
    "        self.hidden_size = hidden_size\n",
    "        \n",
    "        self.update_gate = nn.Linear(hidden_size*2, hidden_size) # z_t\n",
    "        self.reset_gate = nn.Linear(hidden_size*2, hidden_size) # r_t\n",
    "        self.new_gate = nn.Linear(hidden_size*2, hidden_size) # h_t\n",
    "        \n",
    "    def forward(self, input, hidden):\n",
    "        combined = torch.cat((input, hidden), 1)\n",
    "        update = torch.sigmoid(self.update_gate(combined))\n",
    "        reset = torch.sigmoid(self.reset_gate(combined))\n",
    "        combined = torch.cat((input, reset*hidden), 1)\n",
    "        new = torch.tanh(self.new_gate(combined))\n",
    "        output = hidden + update * (new - hidden)\n",
    "        return output"
   ],
   "id": "d85587abf9fbd90e",
   "outputs": [
    {
     "ename": "NameError",
     "evalue": "name 'nn' is not defined",
     "output_type": "error",
     "traceback": [
      "\u001B[1;31m---------------------------------------------------------------------------\u001B[0m",
      "\u001B[1;31mNameError\u001B[0m                                 Traceback (most recent call last)",
      "Cell \u001B[1;32mIn[1], line 1\u001B[0m\n\u001B[1;32m----> 1\u001B[0m \u001B[38;5;28;01mclass\u001B[39;00m \u001B[38;5;21;01mGRU\u001B[39;00m(nn\u001B[38;5;241m.\u001B[39mModule):\n\u001B[0;32m      2\u001B[0m     \u001B[38;5;28;01mdef\u001B[39;00m \u001B[38;5;21m__init__\u001B[39m(\u001B[38;5;28mself\u001B[39m, hidden_size):\n\u001B[0;32m      3\u001B[0m         \u001B[38;5;28msuper\u001B[39m(GRU, \u001B[38;5;28mself\u001B[39m)\u001B[38;5;241m.\u001B[39m\u001B[38;5;21m__init__\u001B[39m()\n",
      "\u001B[1;31mNameError\u001B[0m: name 'nn' is not defined"
     ]
    }
   ],
   "execution_count": 1
  }
 ],
 "metadata": {
  "kernelspec": {
   "display_name": "Python 3",
   "language": "python",
   "name": "python3"
  },
  "language_info": {
   "codemirror_mode": {
    "name": "ipython",
    "version": 2
   },
   "file_extension": ".py",
   "mimetype": "text/x-python",
   "name": "python",
   "nbconvert_exporter": "python",
   "pygments_lexer": "ipython2",
   "version": "2.7.6"
  }
 },
 "nbformat": 4,
 "nbformat_minor": 5
}
