{
 "cells": [
  {
   "metadata": {},
   "cell_type": "markdown",
   "source": "# Imports",
   "id": "20c0ce702028a77f"
  },
  {
   "metadata": {
    "ExecuteTime": {
     "end_time": "2024-06-14T13:28:22.073997Z",
     "start_time": "2024-06-14T13:28:20.063706Z"
    }
   },
   "cell_type": "code",
   "source": [
    "import torch\n",
    "import torch.nn as nn\n",
    "import torch.functional as F"
   ],
   "id": "initial_id",
   "outputs": [],
   "execution_count": 2
  },
  {
   "metadata": {},
   "cell_type": "markdown",
   "source": "# Neural network module",
   "id": "12af38b1085957a6"
  },
  {
   "metadata": {
    "ExecuteTime": {
     "end_time": "2024-06-14T13:28:22.082567Z",
     "start_time": "2024-06-14T13:28:22.076004Z"
    }
   },
   "cell_type": "code",
   "source": [
    "class GRU(nn.Module):\n",
    "    def __init__(self, hidden_size):\n",
    "        super(GRU, self).__init__()\n",
    "        self.hidden_size = hidden_size\n",
    "        \n",
    "        self.update_gate = nn.Linear(hidden_size*2, hidden_size) # z_t\n",
    "        self.reset_gate = nn.Linear(hidden_size*2, hidden_size) # r_t\n",
    "        self.new_gate = nn.Linear(hidden_size*2, hidden_size) # h_t\n",
    "        \n",
    "    def forward(self, input, hidden):\n",
    "        combined = torch.cat((input, hidden), 1)\n",
    "        update = torch.sigmoid(self.update_gate(combined))\n",
    "        reset = torch.sigmoid(self.reset_gate(combined))\n",
    "        combined = torch.cat((input, reset*hidden), 1)\n",
    "        new = torch.tanh(self.new_gate(combined))\n",
    "        output = hidden + update * (new - hidden)\n",
    "        return output"
   ],
   "id": "d85587abf9fbd90e",
   "outputs": [],
   "execution_count": 3
  }
 ],
 "metadata": {
  "kernelspec": {
   "display_name": "Python 3",
   "language": "python",
   "name": "python3"
  },
  "language_info": {
   "codemirror_mode": {
    "name": "ipython",
    "version": 2
   },
   "file_extension": ".py",
   "mimetype": "text/x-python",
   "name": "python",
   "nbconvert_exporter": "python",
   "pygments_lexer": "ipython2",
   "version": "2.7.6"
  }
 },
 "nbformat": 4,
 "nbformat_minor": 5
}
