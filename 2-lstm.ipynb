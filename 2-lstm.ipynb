{
 "cells": [
  {
   "metadata": {
    "ExecuteTime": {
     "end_time": "2024-06-10T12:24:17.481920Z",
     "start_time": "2024-06-10T12:24:14.348063Z"
    }
   },
   "cell_type": "code",
   "source": [
    "import torch.nn as nn\n",
    "import torch\n",
    "import torch.nn.functional as F\n",
    "import math,copy,re\n",
    "import warnings\n",
    "import pandas as pd\n",
    "import numpy as np\n",
    "import seaborn as sns\n",
    "import matplotlib.pyplot as plt\n",
    "import glob\n",
    "import os\n",
    "import random"
   ],
   "id": "632aecbcff9480e0",
   "outputs": [],
   "execution_count": 1
  },
  {
   "metadata": {},
   "cell_type": "code",
   "outputs": [],
   "execution_count": null,
   "source": [
    "class LSTM(nn.Module):\n",
    "    def __init__(self, input_size, hidden_size, output_size, bias=True):\n",
    "        super(LSTM, self).__init__()\n",
    "        \n",
    "        self.input_size = input_size\n",
    "        self.hidden_size = hidden_size\n",
    "        self.output_size = output_size\n",
    "        self.bias = bias\n",
    "        \n",
    "        self.ft = nn.Linear(self.input_size + self.hidden_size, self.output_size, bias=self.bias)\n",
    "        self.it = nn.Linear(self.input_size + self.hidden_size, self.output_size, bias=self.bias)\n",
    "        self.ct = nn.Linear(self.input_size + self.hidden_size, self.output_size, bias=self.bias)\n",
    "        self.ot = nn.Linear(self.input_size + self.hidden_size, self.output_size, bias=self.bias)\n",
    "        \n",
    "    def forward(self, input, hidden, cell):\n",
    "        x_h = torch.cat((input, hidden))\n",
    "        forget_gate = F.sigmoid(self.ft(x_h))\n",
    "        input_gate = F.sigmoid(self.it(x_h)) * F.tanh(self.ct(x_h))\n",
    "        output = forget_gate * cell + input_gate\n",
    "        hidden = F.sigmoid(self.ot(x_h)) * F.tanh(output)\n",
    "        return output, hidden\n",
    "        \n",
    "    def init_hidden(self):\n",
    "        return torch.zeros(1, self.hidden_size)"
   ],
   "id": "initial_id"
  }
 ],
 "metadata": {
  "kernelspec": {
   "display_name": "Python 3",
   "language": "python",
   "name": "python3"
  },
  "language_info": {
   "codemirror_mode": {
    "name": "ipython",
    "version": 2
   },
   "file_extension": ".py",
   "mimetype": "text/x-python",
   "name": "python",
   "nbconvert_exporter": "python",
   "pygments_lexer": "ipython2",
   "version": "2.7.6"
  }
 },
 "nbformat": 4,
 "nbformat_minor": 5
}
