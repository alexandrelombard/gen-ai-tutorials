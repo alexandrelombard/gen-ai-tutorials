{
 "cells": [
  {
   "cell_type": "code",
   "id": "initial_id",
   "metadata": {
    "collapsed": true,
    "ExecuteTime": {
     "end_time": "2024-06-20T06:48:09.475143Z",
     "start_time": "2024-06-20T06:48:09.469614Z"
    }
   },
   "source": [
    "import torch\n",
    "import torch.nn as nn\n",
    "import torch.nn.functional as F\n",
    "\n",
    "import unicodedata\n",
    "import re\n",
    "import random"
   ],
   "outputs": [],
   "execution_count": 13
  },
  {
   "metadata": {},
   "cell_type": "markdown",
   "source": "# Loading data",
   "id": "5947674b0f55f925"
  },
  {
   "metadata": {
    "ExecuteTime": {
     "end_time": "2024-06-20T06:48:09.517191Z",
     "start_time": "2024-06-20T06:48:09.510141Z"
    }
   },
   "cell_type": "code",
   "source": [
    "SOS_token = 0\n",
    "EOS_token = 1\n",
    "\n",
    "class Lang:\n",
    "    def __init__(self, name):\n",
    "        self.name = name\n",
    "        self.word2index = {}\n",
    "        self.word2count = {}\n",
    "        self.index2word = {SOS_token: 'SOS', EOS_token: 'EOS'}\n",
    "        self.n_words = 2    # for SOS and EOS tokens\n",
    "        \n",
    "    def add_sentence(self, sentence):\n",
    "        for word in sentence.split(' '):\n",
    "            self.add_word(word)\n",
    "            \n",
    "    def add_word(self, word):\n",
    "        if word not in self.word2index:\n",
    "            self.word2index[word] = self.n_words\n",
    "            self.word2count[word] = 1\n",
    "            self.index2word[self.n_words] = word\n",
    "            self.n_words += 1\n",
    "        else:\n",
    "            self.word2count[word] += 1"
   ],
   "id": "2f6b165537239474",
   "outputs": [],
   "execution_count": 14
  },
  {
   "metadata": {
    "ExecuteTime": {
     "end_time": "2024-06-20T06:48:09.526394Z",
     "start_time": "2024-06-20T06:48:09.520208Z"
    }
   },
   "cell_type": "code",
   "source": [
    "def unicode_to_ascii(s):\n",
    "    return ''.join(\n",
    "        c for c in unicodedata.normalize('NFD', s)\n",
    "        if unicodedata.category(c) != 'Mn'\n",
    "    )\n",
    "\n",
    "# Lowercase, trim, and remove non-letter characters\n",
    "def normalize_string(s):\n",
    "    s = unicode_to_ascii(s.lower().strip())\n",
    "    s = re.sub(r\"([.!?])\", r\" \\1\", s)\n",
    "    s = re.sub(r\"[^a-zA-Z!?]+\", r\" \", s)\n",
    "    return s.strip()"
   ],
   "id": "411275aac692bd75",
   "outputs": [],
   "execution_count": 15
  },
  {
   "metadata": {
    "ExecuteTime": {
     "end_time": "2024-06-20T06:48:09.534676Z",
     "start_time": "2024-06-20T06:48:09.528407Z"
    }
   },
   "cell_type": "code",
   "source": [
    "def read_langs(lang1: str, lang2: str, reverse=False):\n",
    "    lines = open(\"data/%s-%s.txt\" % (lang1, lang2), encoding=\"utf-8\").readlines()\n",
    "    pairs = [[normalize_string(s) for s in l.split('\\t')] for l in lines]\n",
    "    \n",
    "    if reverse:\n",
    "        pairs = [list(reversed(p)) for p in pairs]\n",
    "        input_lang = Lang(lang2)\n",
    "        output_lang = Lang(lang1)\n",
    "    else:\n",
    "        input_lang = Lang(lang1)\n",
    "        output_lang = Lang(lang2)\n",
    "        \n",
    "    return input_lang, output_lang, pairs"
   ],
   "id": "d337842b0f827781",
   "outputs": [],
   "execution_count": 16
  },
  {
   "metadata": {
    "ExecuteTime": {
     "end_time": "2024-06-20T06:48:13.708943Z",
     "start_time": "2024-06-20T06:48:09.536685Z"
    }
   },
   "cell_type": "code",
   "source": [
    "input_lang, output_lang, pairs = read_langs('eng', 'fra')\n",
    "for pair in pairs:\n",
    "    input_lang.add_sentence(pair[0])\n",
    "    output_lang.add_sentence(pair[1])"
   ],
   "id": "752c7500e574501e",
   "outputs": [],
   "execution_count": 17
  },
  {
   "metadata": {
    "ExecuteTime": {
     "end_time": "2024-06-20T06:48:13.714222Z",
     "start_time": "2024-06-20T06:48:13.710951Z"
    }
   },
   "cell_type": "code",
   "source": "MAX_LENGTH = 100",
   "id": "2de2130b5b12832b",
   "outputs": [],
   "execution_count": 18
  },
  {
   "metadata": {},
   "cell_type": "markdown",
   "source": "# Processing data",
   "id": "b467176acd3aae3f"
  },
  {
   "metadata": {
    "ExecuteTime": {
     "end_time": "2024-06-20T06:48:13.722947Z",
     "start_time": "2024-06-20T06:48:13.716232Z"
    }
   },
   "cell_type": "code",
   "source": [
    "def indexes_from_sentence(lang, sentence):\n",
    "    return [lang.word2index[word] for word in sentence.split(' ')]\n",
    "\n",
    "def tensor_from_sentence(lang, sentence):\n",
    "    indexes = indexes_from_sentence(lang, sentence)\n",
    "    indexes.append(EOS_token)\n",
    "    return torch.tensor(indexes, dtype=torch.long).view(1, -1)\n",
    "\n",
    "def tensors_from_pair(pair):\n",
    "    input_tensor = tensor_from_sentence(input_lang, pair[0])\n",
    "    target_tensor = tensor_from_sentence(output_lang, pair[1])\n",
    "    return (input_tensor, target_tensor)"
   ],
   "id": "3e8a516b5975e853",
   "outputs": [],
   "execution_count": 19
  },
  {
   "metadata": {
    "ExecuteTime": {
     "end_time": "2024-06-20T06:50:29.769264Z",
     "start_time": "2024-06-20T06:50:19.406307Z"
    }
   },
   "cell_type": "code",
   "source": [
    "input_lang, output_lang, pairs = read_langs('eng', 'fra', True)\n",
    "for pair in pairs:\n",
    "    input_lang.add_sentence(pair[0])\n",
    "    output_lang.add_sentence(pair[1])\n",
    "    \n",
    "print(random.choice(pairs))\n",
    "\n",
    "n = len(pairs)\n",
    "input_ids = torch.zeros((n, MAX_LENGTH), dtype=torch.int32)\n",
    "target_ids = torch.zeros((n, MAX_LENGTH), dtype=torch.int32)\n",
    "\n",
    "for idx, (inp, tgt) in enumerate(pairs):\n",
    "    inp_ids = indexes_from_sentence(input_lang, inp)\n",
    "    tgt_ids = indexes_from_sentence(output_lang, tgt)\n",
    "    inp_ids.append(EOS_token)\n",
    "    tgt_ids.append(EOS_token)\n",
    "    input_ids[idx, :len(inp_ids)] = torch.Tensor(inp_ids)\n",
    "    target_ids[idx, :len(tgt_ids)] = torch.Tensor(tgt_ids)"
   ],
   "id": "9c001dfbd082de00",
   "outputs": [
    {
     "name": "stdout",
     "output_type": "stream",
     "text": [
      "['les randonneurs doivent emporter une boussole avec eux pour trouver leur chemin a travers les bois', 'hikers need to carry a compass with them to find their way through the woods']\n"
     ]
    }
   ],
   "execution_count": 22
  },
  {
   "metadata": {},
   "cell_type": "code",
   "outputs": [],
   "execution_count": null,
   "source": "",
   "id": "3e1ca45f4c186ce0"
  }
 ],
 "metadata": {
  "kernelspec": {
   "display_name": "Python 3",
   "language": "python",
   "name": "python3"
  },
  "language_info": {
   "codemirror_mode": {
    "name": "ipython",
    "version": 2
   },
   "file_extension": ".py",
   "mimetype": "text/x-python",
   "name": "python",
   "nbconvert_exporter": "python",
   "pygments_lexer": "ipython2",
   "version": "2.7.6"
  }
 },
 "nbformat": 4,
 "nbformat_minor": 5
}
